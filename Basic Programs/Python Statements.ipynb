{
 "cells": [
  {
   "cell_type": "code",
   "execution_count": 32,
   "id": "0bb9d771",
   "metadata": {},
   "outputs": [
    {
     "name": "stdout",
     "output_type": "stream",
     "text": [
      "0\n",
      "1\n",
      "2\n",
      "3\n",
      "4\n",
      "5\n",
      "6\n",
      "7\n",
      "8\n",
      "9\n",
      "10\n"
     ]
    }
   ],
   "source": [
    "#  while loop - it can execute a set of statements as long as the condition is true.\n",
    "\n",
    "a = 0\n",
    "while a <= 10:\n",
    "    print(a)\n",
    "    a += 1"
   ]
  },
  {
   "cell_type": "code",
   "execution_count": null,
   "id": "c15b239d",
   "metadata": {},
   "outputs": [],
   "source": []
  },
  {
   "cell_type": "code",
   "execution_count": 33,
   "id": "9e1d2035",
   "metadata": {},
   "outputs": [
    {
     "name": "stdout",
     "output_type": "stream",
     "text": [
      "1\n",
      "2\n",
      "3\n",
      "4\n",
      "5\n",
      "6\n",
      "7\n",
      "8\n",
      "9\n",
      "10\n",
      "11\n",
      "12\n",
      "13\n",
      "14\n",
      "15\n"
     ]
    }
   ],
   "source": [
    "# break statement- it is used to stop the loop even if the while condition is true.\n",
    "x = 1\n",
    "while x < 20:\n",
    "    print(x)\n",
    "    if x == 15:\n",
    "     break\n",
    "    x += 1\n"
   ]
  },
  {
   "cell_type": "code",
   "execution_count": 34,
   "id": "35ff6e04",
   "metadata": {},
   "outputs": [
    {
     "name": "stdout",
     "output_type": "stream",
     "text": [
      "2\n",
      "3\n",
      "4\n",
      "5\n",
      "7\n",
      "8\n",
      "9\n",
      "10\n"
     ]
    }
   ],
   "source": [
    "# continue statement- it is use to stop the current iteration and continue next.\n",
    "y = 1\n",
    "while y < 10:\n",
    "    y += 1\n",
    "    if y == 6:\n",
    "     continue\n",
    "    print(y)"
   ]
  },
  {
   "cell_type": "code",
   "execution_count": 44,
   "id": "bec98811",
   "metadata": {},
   "outputs": [],
   "source": [
    "#pass statement- is used as a placeholder for future code, when the pass statement is excuted nothing happens.\n",
    "#(just to error when empty code is not allowed )\n",
    "\n",
    "for x in [ 0, 1, 2, 3, 4, 5]:\n",
    "    pass\n",
    "  "
   ]
  },
  {
   "cell_type": "code",
   "execution_count": 39,
   "id": "5ced5f10",
   "metadata": {},
   "outputs": [
    {
     "name": "stdout",
     "output_type": "stream",
     "text": [
      "0\n",
      "1\n",
      "2\n",
      "3\n",
      "4\n",
      "5\n",
      "6\n",
      "7\n",
      "8\n",
      "9\n",
      "10\n",
      "11\n",
      "12\n",
      "13\n",
      "14\n"
     ]
    }
   ],
   "source": [
    "# useful operators\n",
    "#range function- is used to returns a sequence of numbers, starting from 0 by default, and increments by 1 (by default), \n",
    "#and stops before a specified number.\n",
    "# syntax :range(start, stop, step)\n",
    "#start- Optional. An integer number specifying at which position to start. Default is 0\n",
    "#stop- Required. An integer number specifying at which position to stop (not included).\n",
    "#step- Optional. An integer number specifying the incrementation. Default is 1\n",
    "\n",
    "x = range( 15)\n",
    "\n",
    "for n in x:\n",
    "  print(n)"
   ]
  },
  {
   "cell_type": "code",
   "execution_count": 40,
   "id": "08361b54",
   "metadata": {},
   "outputs": [
    {
     "data": {
      "text/plain": [
       "[0, 4, 8]"
      ]
     },
     "execution_count": 40,
     "metadata": {},
     "output_type": "execute_result"
    }
   ],
   "source": [
    "list(range(0,10,4))"
   ]
  },
  {
   "cell_type": "code",
   "execution_count": 2,
   "id": "a9689905",
   "metadata": {},
   "outputs": [
    {
     "name": "stdout",
     "output_type": "stream",
     "text": [
      "[(0, 'CSK'), (1, 'KKR'), (2, 'RCB')]\n"
     ]
    }
   ],
   "source": [
    "#enumerate function- it takes a collection ( a tuple) and returns it as an enumerate object.\n",
    "\n",
    "x = ('CSK', 'KKR', 'RCB')\n",
    "y = enumerate(x)\n",
    "\n",
    "print(list(y))\n"
   ]
  },
  {
   "cell_type": "code",
   "execution_count": 45,
   "id": "e21d2114",
   "metadata": {},
   "outputs": [
    {
     "name": "stdout",
     "output_type": "stream",
     "text": [
      "(('java', ' Python'), ('C', 'R'), ('Mysql', 'C++'))\n"
     ]
    }
   ],
   "source": [
    "#zip - is used to Join two tuples together.\n",
    "a = (\"java\", \"C\", \"Mysql\")\n",
    "b = (\" Python\", \"R\", \"C++\")\n",
    "x = zip(a, b)\n",
    "print(tuple(x))"
   ]
  },
  {
   "cell_type": "code",
   "execution_count": 60,
   "id": "81175afc",
   "metadata": {},
   "outputs": [
    {
     "name": "stdout",
     "output_type": "stream",
     "text": [
      "True\n"
     ]
    }
   ],
   "source": [
    "#in operator - Returns True if a sequence with the specified value is present in the object\n",
    "x = [\"car\", \"bus\"]\n",
    "print(\"car\" in x)\n"
   ]
  },
  {
   "cell_type": "code",
   "execution_count": 61,
   "id": "54ac7da3",
   "metadata": {},
   "outputs": [
    {
     "name": "stdout",
     "output_type": "stream",
     "text": [
      "True\n"
     ]
    }
   ],
   "source": [
    "# not in -Returns True if a sequence with the specified value is not present in the object\n",
    "x = [\"car\", \"bus\"]\n",
    "print(\"bike\" not in x)\n"
   ]
  },
  {
   "cell_type": "code",
   "execution_count": 9,
   "id": "d2038108",
   "metadata": {},
   "outputs": [
    {
     "name": "stdout",
     "output_type": "stream",
     "text": [
      "Java\n"
     ]
    }
   ],
   "source": [
    "#min function- returns the item with the lowest value\n",
    "x = min(\"Python\", \"SQL\", \"Java\")\n",
    "\n",
    "print(x)\n"
   ]
  },
  {
   "cell_type": "code",
   "execution_count": 51,
   "id": "be09726e",
   "metadata": {},
   "outputs": [
    {
     "name": "stdout",
     "output_type": "stream",
     "text": [
      "5\n"
     ]
    }
   ],
   "source": [
    "x = min(10,5,15,50)\n",
    "print(x)"
   ]
  },
  {
   "cell_type": "code",
   "execution_count": 11,
   "id": "94a4199b",
   "metadata": {},
   "outputs": [
    {
     "name": "stdout",
     "output_type": "stream",
     "text": [
      "SQL\n"
     ]
    }
   ],
   "source": [
    "#max function- returns the item with the highest value\n",
    "x = max(\"Python\", \"SQL\", \"Java\")\n",
    "\n",
    "print(x)"
   ]
  },
  {
   "cell_type": "code",
   "execution_count": 52,
   "id": "a6f25cd8",
   "metadata": {},
   "outputs": [
    {
     "name": "stdout",
     "output_type": "stream",
     "text": [
      "500\n"
     ]
    }
   ],
   "source": [
    "x = max(500, 154, 300)\n",
    "\n",
    "print(x)"
   ]
  },
  {
   "cell_type": "code",
   "execution_count": 53,
   "id": "4f19d73b",
   "metadata": {},
   "outputs": [
    {
     "name": "stdout",
     "output_type": "stream",
     "text": [
      "['Diya', 'Ramya', 'Aishwarya']\n"
     ]
    }
   ],
   "source": [
    "#random \n",
    "#shuffle - method in a list it reorganize the order of the list items\n",
    "import random\n",
    "\n",
    "mylist = [\"Aishwarya\", \"Ramya\", \"Diya\"]\n",
    "random.shuffle(mylist)\n",
    "\n",
    "print(mylist)\n"
   ]
  },
  {
   "cell_type": "code",
   "execution_count": 54,
   "id": "d16afa73",
   "metadata": {},
   "outputs": [
    {
     "name": "stdout",
     "output_type": "stream",
     "text": [
      "144\n"
     ]
    }
   ],
   "source": [
    "#randint- method returns an integer number selected element from the specified range.\n",
    "import random\n",
    "\n",
    "print(random.randint(100, 150))"
   ]
  },
  {
   "cell_type": "code",
   "execution_count": 55,
   "id": "0d4a609a",
   "metadata": {},
   "outputs": [
    {
     "name": "stdout",
     "output_type": "stream",
     "text": [
      "Enter your name:\n",
      "Aishwarya\n",
      "Hi how are ?, Aishwarya\n"
     ]
    }
   ],
   "source": [
    "#input - The input() function allows user input.\n",
    "print(\"Enter your name:\")\n",
    "x = input()\n",
    "print(\"Hi how are ?, \" + x)"
   ]
  },
  {
   "cell_type": "code",
   "execution_count": 56,
   "id": "6a7538dc",
   "metadata": {},
   "outputs": [
    {
     "name": "stdout",
     "output_type": "stream",
     "text": [
      "['Green']\n"
     ]
    }
   ],
   "source": [
    "# list comprehension offers a shorter syntax when you want to create a new list based on the values of \n",
    "#an existing list.\n",
    "colors = [\"Red\", \"Blue\", \"Green\", \"White\",\"Black\" ]\n",
    "newlist = []\n",
    "\n",
    "for x in colors:\n",
    "  if \"r\" in x:\n",
    "    newlist.append(x)\n",
    "\n",
    "print(newlist)\n"
   ]
  },
  {
   "cell_type": "code",
   "execution_count": 58,
   "id": "8c3fbcd6",
   "metadata": {},
   "outputs": [
    {
     "name": "stdout",
     "output_type": "stream",
     "text": [
      "['Green']\n"
     ]
    }
   ],
   "source": [
    "colors = [\"Red\", \"Blue\", \"Green\", \"White\",\"Black\"]\n",
    "newlist = [x for x in colors if \"n\" in x]\n",
    "\n",
    "print(newlist)"
   ]
  },
  {
   "cell_type": "code",
   "execution_count": null,
   "id": "07a5d000",
   "metadata": {},
   "outputs": [],
   "source": []
  }
 ],
 "metadata": {
  "kernelspec": {
   "display_name": "Python 3 (ipykernel)",
   "language": "python",
   "name": "python3"
  },
  "language_info": {
   "codemirror_mode": {
    "name": "ipython",
    "version": 3
   },
   "file_extension": ".py",
   "mimetype": "text/x-python",
   "name": "python",
   "nbconvert_exporter": "python",
   "pygments_lexer": "ipython3",
   "version": "3.9.7"
  }
 },
 "nbformat": 4,
 "nbformat_minor": 5
}
